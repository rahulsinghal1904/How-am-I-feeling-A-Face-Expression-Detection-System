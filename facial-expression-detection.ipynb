{
 "cells": [
  {
   "cell_type": "code",
   "execution_count": 1,
   "metadata": {
    "_cell_guid": "b1076dfc-b9ad-4769-8c92-a6c4dae69d19",
    "_uuid": "8f2839f25d086af736a60e9eeb907d3b93b6e0e5",
    "execution": {
     "iopub.execute_input": "2021-02-17T04:44:02.953339Z",
     "iopub.status.busy": "2021-02-17T04:44:02.952675Z",
     "iopub.status.idle": "2021-02-17T04:44:02.969701Z",
     "shell.execute_reply": "2021-02-17T04:44:02.968880Z"
    },
    "papermill": {
     "duration": 0.047832,
     "end_time": "2021-02-17T04:44:02.969962",
     "exception": false,
     "start_time": "2021-02-17T04:44:02.922130",
     "status": "completed"
    },
    "tags": []
   },
   "outputs": [
    {
     "name": "stdout",
     "output_type": "stream",
     "text": [
      "/kaggle/input/facial-expression-recognitionferchallenge/Submission.csv\n",
      "/kaggle/input/facial-expression-recognitionferchallenge/fer2013/fer2013/README\n",
      "/kaggle/input/facial-expression-recognitionferchallenge/fer2013/fer2013/fer2013.bib\n",
      "/kaggle/input/facial-expression-recognitionferchallenge/fer2013/fer2013/fer2013.csv\n"
     ]
    }
   ],
   "source": [
    "# This Python 3 environment comes with many helpful analytics libraries installed\n",
    "# It is defined by the kaggle/python Docker image: https://github.com/kaggle/docker-python\n",
    "# For example, here's several helpful packages to load\n",
    "\n",
    "import numpy as np # linear algebra\n",
    "import pandas as pd # data processing, CSV file I/O (e.g. pd.read_csv)\n",
    "\n",
    "# Input data files are available in the read-only \"../input/\" directory\n",
    "# For example, running this (by clicking run or pressing Shift+Enter) will list all files under the input directory\n",
    "\n",
    "import os\n",
    "for dirname, _, filenames in os.walk('/kaggle/input'):\n",
    "    for filename in filenames:\n",
    "        print(os.path.join(dirname, filename))\n",
    "\n",
    "# You can write up to 20GB to the current directory (/kaggle/working/) that gets preserved as output when you create a version using \"Save & Run All\" \n",
    "# You can also write temporary files to /kaggle/temp/, but they won't be saved outside of the current session"
   ]
  },
  {
   "cell_type": "code",
   "execution_count": 2,
   "metadata": {
    "execution": {
     "iopub.execute_input": "2021-02-17T04:44:03.029698Z",
     "iopub.status.busy": "2021-02-17T04:44:03.028581Z",
     "iopub.status.idle": "2021-02-17T04:44:17.680803Z",
     "shell.execute_reply": "2021-02-17T04:44:17.681594Z"
    },
    "papermill": {
     "duration": 14.689362,
     "end_time": "2021-02-17T04:44:17.681855",
     "exception": false,
     "start_time": "2021-02-17T04:44:02.992493",
     "status": "completed"
    },
    "tags": []
   },
   "outputs": [
    {
     "name": "stdout",
     "output_type": "stream",
     "text": [
      "Requirement already satisfied: tensorflow in /opt/conda/lib/python3.7/site-packages (2.4.1)\r\n",
      "Requirement already satisfied: wheel~=0.35 in /opt/conda/lib/python3.7/site-packages (from tensorflow) (0.36.2)\r\n",
      "Requirement already satisfied: tensorboard~=2.4 in /opt/conda/lib/python3.7/site-packages (from tensorflow) (2.4.1)\r\n",
      "Requirement already satisfied: wrapt~=1.12.1 in /opt/conda/lib/python3.7/site-packages (from tensorflow) (1.12.1)\r\n",
      "Requirement already satisfied: flatbuffers~=1.12.0 in /opt/conda/lib/python3.7/site-packages (from tensorflow) (1.12)\r\n",
      "Requirement already satisfied: grpcio~=1.32.0 in /opt/conda/lib/python3.7/site-packages (from tensorflow) (1.32.0)\r\n",
      "Requirement already satisfied: gast==0.3.3 in /opt/conda/lib/python3.7/site-packages (from tensorflow) (0.3.3)\r\n",
      "Requirement already satisfied: absl-py~=0.10 in /opt/conda/lib/python3.7/site-packages (from tensorflow) (0.10.0)\r\n",
      "Requirement already satisfied: astunparse~=1.6.3 in /opt/conda/lib/python3.7/site-packages (from tensorflow) (1.6.3)\r\n",
      "Requirement already satisfied: google-pasta~=0.2 in /opt/conda/lib/python3.7/site-packages (from tensorflow) (0.2.0)\r\n",
      "Requirement already satisfied: h5py~=2.10.0 in /opt/conda/lib/python3.7/site-packages (from tensorflow) (2.10.0)\r\n",
      "Requirement already satisfied: keras-preprocessing~=1.1.2 in /opt/conda/lib/python3.7/site-packages (from tensorflow) (1.1.2)\r\n",
      "Requirement already satisfied: numpy~=1.19.2 in /opt/conda/lib/python3.7/site-packages (from tensorflow) (1.19.5)\r\n",
      "Requirement already satisfied: opt-einsum~=3.3.0 in /opt/conda/lib/python3.7/site-packages (from tensorflow) (3.3.0)\r\n",
      "Requirement already satisfied: protobuf>=3.9.2 in /opt/conda/lib/python3.7/site-packages (from tensorflow) (3.14.0)\r\n",
      "Requirement already satisfied: six~=1.15.0 in /opt/conda/lib/python3.7/site-packages (from tensorflow) (1.15.0)\r\n",
      "Requirement already satisfied: typing-extensions~=3.7.4 in /opt/conda/lib/python3.7/site-packages (from tensorflow) (3.7.4.3)\r\n",
      "Requirement already satisfied: tensorflow-estimator<2.5.0,>=2.4.0 in /opt/conda/lib/python3.7/site-packages (from tensorflow) (2.4.0)\r\n",
      "Requirement already satisfied: termcolor~=1.1.0 in /opt/conda/lib/python3.7/site-packages (from tensorflow) (1.1.0)\r\n",
      "Requirement already satisfied: markdown>=2.6.8 in /opt/conda/lib/python3.7/site-packages (from tensorboard~=2.4->tensorflow) (3.3.3)\r\n",
      "Requirement already satisfied: google-auth<2,>=1.6.3 in /opt/conda/lib/python3.7/site-packages (from tensorboard~=2.4->tensorflow) (1.24.0)\r\n",
      "Requirement already satisfied: tensorboard-plugin-wit>=1.6.0 in /opt/conda/lib/python3.7/site-packages (from tensorboard~=2.4->tensorflow) (1.8.0)\r\n",
      "Requirement already satisfied: setuptools>=41.0.0 in /opt/conda/lib/python3.7/site-packages (from tensorboard~=2.4->tensorflow) (49.6.0.post20201009)\r\n",
      "Requirement already satisfied: werkzeug>=0.11.15 in /opt/conda/lib/python3.7/site-packages (from tensorboard~=2.4->tensorflow) (1.0.1)\r\n",
      "Requirement already satisfied: requests<3,>=2.21.0 in /opt/conda/lib/python3.7/site-packages (from tensorboard~=2.4->tensorflow) (2.25.1)\r\n",
      "Requirement already satisfied: google-auth-oauthlib<0.5,>=0.4.1 in /opt/conda/lib/python3.7/site-packages (from tensorboard~=2.4->tensorflow) (0.4.2)\r\n",
      "Requirement already satisfied: rsa<5,>=3.1.4 in /opt/conda/lib/python3.7/site-packages (from google-auth<2,>=1.6.3->tensorboard~=2.4->tensorflow) (4.6)\r\n",
      "Requirement already satisfied: cachetools<5.0,>=2.0.0 in /opt/conda/lib/python3.7/site-packages (from google-auth<2,>=1.6.3->tensorboard~=2.4->tensorflow) (4.1.1)\r\n",
      "Requirement already satisfied: pyasn1-modules>=0.2.1 in /opt/conda/lib/python3.7/site-packages (from google-auth<2,>=1.6.3->tensorboard~=2.4->tensorflow) (0.2.7)\r\n",
      "Requirement already satisfied: requests-oauthlib>=0.7.0 in /opt/conda/lib/python3.7/site-packages (from google-auth-oauthlib<0.5,>=0.4.1->tensorboard~=2.4->tensorflow) (1.3.0)\r\n",
      "Requirement already satisfied: importlib-metadata in /opt/conda/lib/python3.7/site-packages (from markdown>=2.6.8->tensorboard~=2.4->tensorflow) (3.3.0)\r\n",
      "Requirement already satisfied: pyasn1<0.5.0,>=0.4.6 in /opt/conda/lib/python3.7/site-packages (from pyasn1-modules>=0.2.1->google-auth<2,>=1.6.3->tensorboard~=2.4->tensorflow) (0.4.8)\r\n",
      "Requirement already satisfied: urllib3<1.27,>=1.21.1 in /opt/conda/lib/python3.7/site-packages (from requests<3,>=2.21.0->tensorboard~=2.4->tensorflow) (1.26.2)\r\n",
      "Requirement already satisfied: chardet<5,>=3.0.2 in /opt/conda/lib/python3.7/site-packages (from requests<3,>=2.21.0->tensorboard~=2.4->tensorflow) (3.0.4)\r\n",
      "Requirement already satisfied: certifi>=2017.4.17 in /opt/conda/lib/python3.7/site-packages (from requests<3,>=2.21.0->tensorboard~=2.4->tensorflow) (2020.12.5)\r\n",
      "Requirement already satisfied: idna<3,>=2.5 in /opt/conda/lib/python3.7/site-packages (from requests<3,>=2.21.0->tensorboard~=2.4->tensorflow) (2.10)\r\n",
      "Requirement already satisfied: oauthlib>=3.0.0 in /opt/conda/lib/python3.7/site-packages (from requests-oauthlib>=0.7.0->google-auth-oauthlib<0.5,>=0.4.1->tensorboard~=2.4->tensorflow) (3.0.1)\r\n",
      "Requirement already satisfied: zipp>=0.5 in /opt/conda/lib/python3.7/site-packages (from importlib-metadata->markdown>=2.6.8->tensorboard~=2.4->tensorflow) (3.4.0)\r\n"
     ]
    }
   ],
   "source": [
    "!pip install tensorflow\n",
    "import tensorflow as tf"
   ]
  },
  {
   "cell_type": "code",
   "execution_count": 3,
   "metadata": {
    "execution": {
     "iopub.execute_input": "2021-02-17T04:44:17.759873Z",
     "iopub.status.busy": "2021-02-17T04:44:17.759002Z",
     "iopub.status.idle": "2021-02-17T04:44:24.744453Z",
     "shell.execute_reply": "2021-02-17T04:44:24.743873Z"
    },
    "papermill": {
     "duration": 7.027335,
     "end_time": "2021-02-17T04:44:24.744589",
     "exception": false,
     "start_time": "2021-02-17T04:44:17.717254",
     "status": "completed"
    },
    "tags": []
   },
   "outputs": [
    {
     "name": "stdout",
     "output_type": "stream",
     "text": [
      "Requirement already satisfied: matplotlib in /opt/conda/lib/python3.7/site-packages (3.3.3)\r\n",
      "Requirement already satisfied: pyparsing!=2.0.4,!=2.1.2,!=2.1.6,>=2.0.3 in /opt/conda/lib/python3.7/site-packages (from matplotlib) (2.4.7)\r\n",
      "Requirement already satisfied: kiwisolver>=1.0.1 in /opt/conda/lib/python3.7/site-packages (from matplotlib) (1.3.1)\r\n",
      "Requirement already satisfied: cycler>=0.10 in /opt/conda/lib/python3.7/site-packages (from matplotlib) (0.10.0)\r\n",
      "Requirement already satisfied: numpy>=1.15 in /opt/conda/lib/python3.7/site-packages (from matplotlib) (1.19.5)\r\n",
      "Requirement already satisfied: python-dateutil>=2.1 in /opt/conda/lib/python3.7/site-packages (from matplotlib) (2.8.1)\r\n",
      "Requirement already satisfied: pillow>=6.2.0 in /opt/conda/lib/python3.7/site-packages (from matplotlib) (7.2.0)\r\n",
      "Requirement already satisfied: six in /opt/conda/lib/python3.7/site-packages (from cycler>=0.10->matplotlib) (1.15.0)\r\n"
     ]
    }
   ],
   "source": [
    "!pip install matplotlib"
   ]
  },
  {
   "cell_type": "code",
   "execution_count": 4,
   "metadata": {
    "execution": {
     "iopub.execute_input": "2021-02-17T04:44:24.800260Z",
     "iopub.status.busy": "2021-02-17T04:44:24.799515Z",
     "iopub.status.idle": "2021-02-17T04:44:24.802426Z",
     "shell.execute_reply": "2021-02-17T04:44:24.801976Z"
    },
    "papermill": {
     "duration": 0.033977,
     "end_time": "2021-02-17T04:44:24.802558",
     "exception": false,
     "start_time": "2021-02-17T04:44:24.768581",
     "status": "completed"
    },
    "tags": []
   },
   "outputs": [],
   "source": [
    "%matplotlib inline\n",
    "import matplotlib.pyplot as plt\n",
    "import matplotlib.cm as cm"
   ]
  },
  {
   "cell_type": "code",
   "execution_count": 5,
   "metadata": {
    "execution": {
     "iopub.execute_input": "2021-02-17T04:44:24.861631Z",
     "iopub.status.busy": "2021-02-17T04:44:24.861027Z",
     "iopub.status.idle": "2021-02-17T04:45:34.938798Z",
     "shell.execute_reply": "2021-02-17T04:45:34.937410Z"
    },
    "papermill": {
     "duration": 70.111538,
     "end_time": "2021-02-17T04:45:34.938996",
     "exception": false,
     "start_time": "2021-02-17T04:44:24.827458",
     "status": "completed"
    },
    "tags": []
   },
   "outputs": [],
   "source": [
    "data = pd.read_csv(\"../input/facial-expression-recognitionferchallenge/fer2013/fer2013/fer2013.csv\")\n",
    "#check the number of images and each image data variable\n",
    "data.shape\n",
    "data.head()\n",
    "np.unique(data[\"Usage\"].values.ravel())\n",
    "train_data = data[data.Usage == \"Training\"]\n",
    "pixels_values = train_data.pixels.str.split(\" \").tolist()\n",
    "pixels_values = pd.DataFrame(pixels_values, dtype=int)\n",
    "images = pixels_values.values\n",
    "images = images.astype(np.float)"
   ]
  },
  {
   "cell_type": "code",
   "execution_count": 6,
   "metadata": {
    "execution": {
     "iopub.execute_input": "2021-02-17T04:45:35.030168Z",
     "iopub.status.busy": "2021-02-17T04:45:35.029474Z",
     "iopub.status.idle": "2021-02-17T04:45:35.036072Z",
     "shell.execute_reply": "2021-02-17T04:45:35.037111Z"
    },
    "papermill": {
     "duration": 0.060284,
     "end_time": "2021-02-17T04:45:35.037311",
     "exception": false,
     "start_time": "2021-02-17T04:45:34.977027",
     "status": "completed"
    },
    "tags": []
   },
   "outputs": [],
   "source": [
    "def show(img):\n",
    "    show_image = img.reshape(48,48)\n",
    "    plt.imshow(show_image, cmap='gray')"
   ]
  },
  {
   "cell_type": "code",
   "execution_count": 7,
   "metadata": {
    "execution": {
     "iopub.execute_input": "2021-02-17T04:45:35.126534Z",
     "iopub.status.busy": "2021-02-17T04:45:35.125818Z",
     "iopub.status.idle": "2021-02-17T04:45:35.333287Z",
     "shell.execute_reply": "2021-02-17T04:45:35.333856Z"
    },
    "papermill": {
     "duration": 0.256661,
     "end_time": "2021-02-17T04:45:35.334049",
     "exception": false,
     "start_time": "2021-02-17T04:45:35.077388",
     "status": "completed"
    },
    "tags": []
   },
   "outputs": [
    {
     "data": {
      "image/png": "[encoded data removed]",
      "text/plain": [
       "<Figure size 432x288 with 1 Axes>"
      ]
     },
     "metadata": {
      "needs_background": "light"
     },
     "output_type": "display_data"
    }
   ],
   "source": [
    "show(images[7])"
   ]
  },
  {
   "cell_type": "code",
   "execution_count": 8,
   "metadata": {
    "execution": {
     "iopub.execute_input": "2021-02-17T04:45:35.401243Z",
     "iopub.status.busy": "2021-02-17T04:45:35.400393Z",
     "iopub.status.idle": "2021-02-17T04:45:36.511855Z",
     "shell.execute_reply": "2021-02-17T04:45:36.512526Z"
    },
    "papermill": {
     "duration": 1.152572,
     "end_time": "2021-02-17T04:45:36.512778",
     "exception": false,
     "start_time": "2021-02-17T04:45:35.360206",
     "status": "completed"
    },
    "tags": []
   },
   "outputs": [
    {
     "name": "stdout",
     "output_type": "stream",
     "text": [
      "Flat pixel values is 2304\n"
     ]
    }
   ],
   "source": [
    "images = images - images.mean(axis=1).reshape(-1,1)\n",
    "images = np.multiply(images,100.0/255.0)\n",
    "each_pixel_mean = images.mean(axis=0)\n",
    "each_pixel_std = np.std(images, axis=0)\n",
    "images = np.divide(np.subtract(images,each_pixel_mean), each_pixel_std)\n",
    "image_pixels = images.shape[1]\n",
    "print ('Flat pixel values is %d'%(image_pixels))\n",
    "image_width = image_height = np.ceil(np.sqrt(image_pixels)).astype(np.uint8)\n",
    "labels_flat = train_data[\"emotion\"].values.ravel()\n",
    "labels_count = np.unique(labels_flat).shape[0]"
   ]
  },
  {
   "cell_type": "code",
   "execution_count": 9,
   "metadata": {
    "execution": {
     "iopub.execute_input": "2021-02-17T04:45:36.572212Z",
     "iopub.status.busy": "2021-02-17T04:45:36.570938Z",
     "iopub.status.idle": "2021-02-17T04:45:36.574955Z",
     "shell.execute_reply": "2021-02-17T04:45:36.574462Z"
    },
    "papermill": {
     "duration": 0.035272,
     "end_time": "2021-02-17T04:45:36.575076",
     "exception": false,
     "start_time": "2021-02-17T04:45:36.539804",
     "status": "completed"
    },
    "tags": []
   },
   "outputs": [],
   "source": [
    "def dense_to_one_hot(labels_dense, num_classes):\n",
    "    num_labels = labels_dense.shape[0]\n",
    "    index_offset = np.arange(num_labels) * num_classes\n",
    "    labels_one_hot = np.zeros((num_labels, num_classes))\n",
    "    labels_one_hot.flat[index_offset + labels_dense.ravel()] = 1\n",
    "    return labels_one_hot  \n",
    "labels = dense_to_one_hot(labels_flat, labels_count)\n",
    "labels = labels.astype(np.uint8)"
   ]
  },
  {
   "cell_type": "code",
   "execution_count": 10,
   "metadata": {
    "execution": {
     "iopub.execute_input": "2021-02-17T04:45:36.632181Z",
     "iopub.status.busy": "2021-02-17T04:45:36.630360Z",
     "iopub.status.idle": "2021-02-17T04:45:36.632827Z",
     "shell.execute_reply": "2021-02-17T04:45:36.633275Z"
    },
    "papermill": {
     "duration": 0.033279,
     "end_time": "2021-02-17T04:45:36.633401",
     "exception": false,
     "start_time": "2021-02-17T04:45:36.600122",
     "status": "completed"
    },
    "tags": []
   },
   "outputs": [],
   "source": [
    "VALIDATION_SIZE = 1709\n",
    "validation_images = images[:VALIDATION_SIZE]\n",
    "validation_labels = labels[:VALIDATION_SIZE]\n",
    "\n",
    "train_images = images[VALIDATION_SIZE:]\n",
    "train_labels = labels[VALIDATION_SIZE:]"
   ]
  },
  {
   "cell_type": "code",
   "execution_count": 11,
   "metadata": {
    "execution": {
     "iopub.execute_input": "2021-02-17T04:45:36.690320Z",
     "iopub.status.busy": "2021-02-17T04:45:36.689500Z",
     "iopub.status.idle": "2021-02-17T04:45:36.693670Z",
     "shell.execute_reply": "2021-02-17T04:45:36.693086Z"
    },
    "papermill": {
     "duration": 0.035121,
     "end_time": "2021-02-17T04:45:36.693817",
     "exception": false,
     "start_time": "2021-02-17T04:45:36.658696",
     "status": "completed"
    },
    "tags": []
   },
   "outputs": [],
   "source": [
    "def weight_variable(shape):\n",
    "    initial = tf.compat.v1.truncated_normal(shape, stddev=1e-4)\n",
    "    return tf.Variable(initial)\n",
    "def bias_variable(shape):\n",
    "    initial = tf.compat.v1.constant(0.1, shape=shape)\n",
    "    return tf.Variable(initial)"
   ]
  },
  {
   "cell_type": "code",
   "execution_count": 12,
   "metadata": {
    "execution": {
     "iopub.execute_input": "2021-02-17T04:45:36.755129Z",
     "iopub.status.busy": "2021-02-17T04:45:36.753239Z",
     "iopub.status.idle": "2021-02-17T04:45:36.755769Z",
     "shell.execute_reply": "2021-02-17T04:45:36.756231Z"
    },
    "papermill": {
     "duration": 0.035044,
     "end_time": "2021-02-17T04:45:36.756366",
     "exception": false,
     "start_time": "2021-02-17T04:45:36.721322",
     "status": "completed"
    },
    "tags": []
   },
   "outputs": [],
   "source": [
    "def conv2d(x, W, padd):\n",
    "    return tf.nn.conv2d(x, W, strides=[1, 1, 1, 1], padding=padd)\n",
    "def max_pool_2x2(x):\n",
    "    return tf.nn.max_pool(x, ksize=[1, 3, 3, 1], strides=[1, 2, 2, 1], padding='SAME')"
   ]
  },
  {
   "cell_type": "code",
   "execution_count": 13,
   "metadata": {
    "execution": {
     "iopub.execute_input": "2021-02-17T04:45:36.812549Z",
     "iopub.status.busy": "2021-02-17T04:45:36.811753Z",
     "iopub.status.idle": "2021-02-17T04:45:36.828022Z",
     "shell.execute_reply": "2021-02-17T04:45:36.827356Z"
    },
    "papermill": {
     "duration": 0.046221,
     "end_time": "2021-02-17T04:45:36.828159",
     "exception": false,
     "start_time": "2021-02-17T04:45:36.781938",
     "status": "completed"
    },
    "tags": []
   },
   "outputs": [],
   "source": [
    "tf.compat.v1.disable_eager_execution()\n",
    "\n",
    "x = tf.compat.v1.placeholder(tf.float32, shape=(None, image_pixels))\n"
   ]
  },
  {
   "cell_type": "code",
   "execution_count": 14,
   "metadata": {
    "execution": {
     "iopub.execute_input": "2021-02-17T04:45:36.885316Z",
     "iopub.status.busy": "2021-02-17T04:45:36.884524Z",
     "iopub.status.idle": "2021-02-17T04:45:36.888357Z",
     "shell.execute_reply": "2021-02-17T04:45:36.887802Z"
    },
    "papermill": {
     "duration": 0.034115,
     "end_time": "2021-02-17T04:45:36.888490",
     "exception": false,
     "start_time": "2021-02-17T04:45:36.854375",
     "status": "completed"
    },
    "tags": []
   },
   "outputs": [],
   "source": [
    "y_ = tf.compat.v1.placeholder(tf.float32, shape=(None, labels_count))\n"
   ]
  },
  {
   "cell_type": "code",
   "execution_count": 15,
   "metadata": {
    "execution": {
     "iopub.execute_input": "2021-02-17T04:45:36.949786Z",
     "iopub.status.busy": "2021-02-17T04:45:36.948934Z",
     "iopub.status.idle": "2021-02-17T04:45:36.977204Z",
     "shell.execute_reply": "2021-02-17T04:45:36.976556Z"
    },
    "papermill": {
     "duration": 0.062392,
     "end_time": "2021-02-17T04:45:36.977357",
     "exception": false,
     "start_time": "2021-02-17T04:45:36.914965",
     "status": "completed"
    },
    "tags": []
   },
   "outputs": [],
   "source": [
    "W_conv1 = weight_variable([5, 5, 1, 64])\n",
    "b_conv1 = bias_variable([64])\n",
    "# (27000, 2304) => (27000,48,48,1)\n",
    "image = tf.reshape(x, [-1,image_width , image_height,1])\n",
    "#print (image.get_shape()) # =>(27000,48,48,1)\n",
    "h_conv1 = tf.nn.relu(conv2d(image, W_conv1, \"SAME\") + b_conv1)\n",
    "#print (h_conv1.get_shape()) # => (27000,48,48,64)\n",
    "h_pool1 = max_pool_2x2(h_conv1)\n",
    "#print (h_pool1.get_shape()) # => (27000,24,24,1)\n",
    "h_norm1 = tf.nn.lrn(h_pool1, 4, bias=1.0, alpha=0.001/9.0, beta=0.75)"
   ]
  },
  {
   "cell_type": "code",
   "execution_count": 16,
   "metadata": {
    "execution": {
     "iopub.execute_input": "2021-02-17T04:45:37.038869Z",
     "iopub.status.busy": "2021-02-17T04:45:37.037965Z",
     "iopub.status.idle": "2021-02-17T04:45:37.052298Z",
     "shell.execute_reply": "2021-02-17T04:45:37.051709Z"
    },
    "papermill": {
     "duration": 0.047588,
     "end_time": "2021-02-17T04:45:37.052417",
     "exception": false,
     "start_time": "2021-02-17T04:45:37.004829",
     "status": "completed"
    },
    "tags": []
   },
   "outputs": [],
   "source": [
    "W_conv2 = weight_variable([5, 5, 64, 128])\n",
    "b_conv2 = bias_variable([128])\n",
    "h_conv2 = tf.nn.relu(conv2d(h_norm1, W_conv2, \"SAME\") + b_conv2)\n",
    "#print (h_conv2.get_shape()) # => (27000,24,24,128)\n",
    "h_norm2 = tf.nn.lrn(h_conv2, 4, bias=1.0, alpha=0.001/9.0, beta=0.75)\n",
    "h_pool2 = max_pool_2x2(h_norm2)"
   ]
  },
  {
   "cell_type": "code",
   "execution_count": 17,
   "metadata": {
    "execution": {
     "iopub.execute_input": "2021-02-17T04:45:37.110844Z",
     "iopub.status.busy": "2021-02-17T04:45:37.110119Z",
     "iopub.status.idle": "2021-02-17T04:45:37.113125Z",
     "shell.execute_reply": "2021-02-17T04:45:37.112546Z"
    },
    "papermill": {
     "duration": 0.034555,
     "end_time": "2021-02-17T04:45:37.113236",
     "exception": false,
     "start_time": "2021-02-17T04:45:37.078681",
     "status": "completed"
    },
    "tags": []
   },
   "outputs": [],
   "source": [
    "def local_weight_variable(shape):\n",
    "    initial = tf.compat.v1.truncated_normal(shape, stddev=0.04)\n",
    "    return tf.Variable(initial)\n",
    "def local_bias_variable(shape):\n",
    "    initial = tf.compat.v1.constant(0.0, shape=shape)\n",
    "    return tf.Variable(initial)"
   ]
  },
  {
   "cell_type": "code",
   "execution_count": 18,
   "metadata": {
    "execution": {
     "iopub.execute_input": "2021-02-17T04:45:37.173125Z",
     "iopub.status.busy": "2021-02-17T04:45:37.172276Z",
     "iopub.status.idle": "2021-02-17T04:45:37.185208Z",
     "shell.execute_reply": "2021-02-17T04:45:37.184745Z"
    },
    "papermill": {
     "duration": 0.045183,
     "end_time": "2021-02-17T04:45:37.185322",
     "exception": false,
     "start_time": "2021-02-17T04:45:37.140139",
     "status": "completed"
    },
    "tags": []
   },
   "outputs": [],
   "source": [
    "W_fc1 = local_weight_variable([12 * 12 * 128, 3072])\n",
    "b_fc1 = local_bias_variable([3072])\n",
    "# (27000, 12, 12, 128) => (27000, 12 * 12 * 128)\n",
    "h_pool2_flat = tf.reshape(h_pool2, [-1, 12 * 12 * 128])\n",
    "h_fc1 = tf.nn.relu(tf.matmul(h_pool2_flat, W_fc1) + b_fc1)\n",
    "#print (h_fc1.get_shape()) # => (27000, 1024)\n"
   ]
  },
  {
   "cell_type": "code",
   "execution_count": 19,
   "metadata": {
    "execution": {
     "iopub.execute_input": "2021-02-17T04:45:37.246291Z",
     "iopub.status.busy": "2021-02-17T04:45:37.245411Z",
     "iopub.status.idle": "2021-02-17T04:45:37.258373Z",
     "shell.execute_reply": "2021-02-17T04:45:37.257890Z"
    },
    "papermill": {
     "duration": 0.046059,
     "end_time": "2021-02-17T04:45:37.258499",
     "exception": false,
     "start_time": "2021-02-17T04:45:37.212440",
     "status": "completed"
    },
    "tags": []
   },
   "outputs": [],
   "source": [
    "W_fc2 = local_weight_variable([3072, 1536])\n",
    "b_fc2 = local_bias_variable([1536])\n",
    "# (40000, 7, 7, 64) => (40000, 3136)\n",
    "h_fc2_flat = tf.reshape(h_fc1, [-1, 3072])\n",
    "h_fc2 = tf.nn.relu(tf.matmul(h_fc2_flat, W_fc2) + b_fc2)\n",
    "#print (h_fc1.get_shape()) # => (40000, 1024)"
   ]
  },
  {
   "cell_type": "code",
   "execution_count": 20,
   "metadata": {
    "execution": {
     "iopub.execute_input": "2021-02-17T04:45:37.318945Z",
     "iopub.status.busy": "2021-02-17T04:45:37.318039Z",
     "iopub.status.idle": "2021-02-17T04:45:37.324769Z",
     "shell.execute_reply": "2021-02-17T04:45:37.324138Z"
    },
    "papermill": {
     "duration": 0.038917,
     "end_time": "2021-02-17T04:45:37.324887",
     "exception": false,
     "start_time": "2021-02-17T04:45:37.285970",
     "status": "completed"
    },
    "tags": []
   },
   "outputs": [],
   "source": [
    "keep_prob = tf.compat.v1.placeholder('float')\n",
    "h_fc2_drop = tf.nn.dropout(h_fc2, keep_prob)"
   ]
  },
  {
   "cell_type": "code",
   "execution_count": 21,
   "metadata": {
    "execution": {
     "iopub.execute_input": "2021-02-17T04:45:37.385522Z",
     "iopub.status.busy": "2021-02-17T04:45:37.384581Z",
     "iopub.status.idle": "2021-02-17T04:45:37.398378Z",
     "shell.execute_reply": "2021-02-17T04:45:37.397793Z"
    },
    "papermill": {
     "duration": 0.045497,
     "end_time": "2021-02-17T04:45:37.398492",
     "exception": false,
     "start_time": "2021-02-17T04:45:37.352995",
     "status": "completed"
    },
    "tags": []
   },
   "outputs": [],
   "source": [
    "W_fc3 = weight_variable([1536, labels_count])\n",
    "b_fc3 = bias_variable([labels_count])\n",
    "y = tf.nn.softmax(tf.matmul(h_fc2_drop, W_fc3) + b_fc3)\n",
    "#print (y.get_shape()) # => (40000, 10)"
   ]
  },
  {
   "cell_type": "code",
   "execution_count": 22,
   "metadata": {
    "execution": {
     "iopub.execute_input": "2021-02-17T04:45:37.457927Z",
     "iopub.status.busy": "2021-02-17T04:45:37.457185Z",
     "iopub.status.idle": "2021-02-17T04:45:37.460299Z",
     "shell.execute_reply": "2021-02-17T04:45:37.459839Z"
    },
    "papermill": {
     "duration": 0.03425,
     "end_time": "2021-02-17T04:45:37.460417",
     "exception": false,
     "start_time": "2021-02-17T04:45:37.426167",
     "status": "completed"
    },
    "tags": []
   },
   "outputs": [],
   "source": [
    "LEARNING_RATE = 1e-4"
   ]
  },
  {
   "cell_type": "code",
   "execution_count": 23,
   "metadata": {
    "execution": {
     "iopub.execute_input": "2021-02-17T04:45:37.522618Z",
     "iopub.status.busy": "2021-02-17T04:45:37.521821Z",
     "iopub.status.idle": "2021-02-17T04:45:37.723487Z",
     "shell.execute_reply": "2021-02-17T04:45:37.722949Z"
    },
    "papermill": {
     "duration": 0.235957,
     "end_time": "2021-02-17T04:45:37.723629",
     "exception": false,
     "start_time": "2021-02-17T04:45:37.487672",
     "status": "completed"
    },
    "tags": []
   },
   "outputs": [],
   "source": [
    "# cost function\n",
    "cross_entropy = -tf.reduce_sum(y_*tf.compat.v1.log(y))\n",
    "# optimisation function\n",
    "train_step = tf.compat.v1.train.AdamOptimizer(LEARNING_RATE).minimize(cross_entropy)\n",
    "# evaluation\n",
    "correct_prediction = tf.equal(tf.argmax(y,1), tf.argmax(y_,1))\n",
    "accuracy = tf.reduce_mean(tf.cast(correct_prediction, 'float'))\n",
    "# prediction function\n",
    "#[0.1, 0.9, 0.2, 0.1, 0.1 0.3, 0.5, 0.1, 0.2, 0.3] => 1\n",
    "predict = tf.argmax(y,1)"
   ]
  },
  {
   "cell_type": "code",
   "execution_count": 24,
   "metadata": {
    "execution": {
     "iopub.execute_input": "2021-02-17T04:45:37.782931Z",
     "iopub.status.busy": "2021-02-17T04:45:37.782202Z",
     "iopub.status.idle": "2021-02-17T04:45:37.785247Z",
     "shell.execute_reply": "2021-02-17T04:45:37.784760Z"
    },
    "papermill": {
     "duration": 0.033718,
     "end_time": "2021-02-17T04:45:37.785365",
     "exception": false,
     "start_time": "2021-02-17T04:45:37.751647",
     "status": "completed"
    },
    "tags": []
   },
   "outputs": [],
   "source": [
    "TRAINING_ITERATIONS = 3000\n",
    "DROPOUT = 0.5\n",
    "BATCH_SIZE = 50"
   ]
  },
  {
   "cell_type": "code",
   "execution_count": 25,
   "metadata": {
    "execution": {
     "iopub.execute_input": "2021-02-17T04:45:37.847188Z",
     "iopub.status.busy": "2021-02-17T04:45:37.846388Z",
     "iopub.status.idle": "2021-02-17T04:45:37.849448Z",
     "shell.execute_reply": "2021-02-17T04:45:37.848884Z"
    },
    "papermill": {
     "duration": 0.036663,
     "end_time": "2021-02-17T04:45:37.849568",
     "exception": false,
     "start_time": "2021-02-17T04:45:37.812905",
     "status": "completed"
    },
    "tags": []
   },
   "outputs": [],
   "source": [
    "epochs_completed = 0\n",
    "index_in_epoch = 0\n",
    "num_examples = train_images.shape[0]\n",
    "\n",
    "# serve data by batches\n",
    "def next_batch(batch_size):\n",
    "    global train_images\n",
    "    global train_labels\n",
    "    global index_in_epoch\n",
    "    global epochs_completed \n",
    "    start = index_in_epoch\n",
    "    index_in_epoch += batch_size    \n",
    "    # when all trainig data have been already used, it is reorder randomly    \n",
    "    if index_in_epoch > num_examples:\n",
    "        # finished epoch\n",
    "        epochs_completed += 1\n",
    "        # shuffle the data\n",
    "        perm = np.arange(num_examples)\n",
    "        np.random.shuffle(perm)\n",
    "        train_images = train_images[perm]\n",
    "        train_labels = train_labels[perm]\n",
    "        # start next epoch\n",
    "        start = 0\n",
    "        index_in_epoch = batch_size\n",
    "        assert batch_size <= num_examples\n",
    "    end = index_in_epoch\n",
    "    return train_images[start:end], train_labels[start:end]"
   ]
  },
  {
   "cell_type": "code",
   "execution_count": 26,
   "metadata": {
    "execution": {
     "iopub.execute_input": "2021-02-17T04:45:37.909984Z",
     "iopub.status.busy": "2021-02-17T04:45:37.909052Z",
     "iopub.status.idle": "2021-02-17T04:45:41.515898Z",
     "shell.execute_reply": "2021-02-17T04:45:41.514825Z"
    },
    "papermill": {
     "duration": 3.639143,
     "end_time": "2021-02-17T04:45:41.516049",
     "exception": false,
     "start_time": "2021-02-17T04:45:37.876906",
     "status": "completed"
    },
    "tags": []
   },
   "outputs": [],
   "source": [
    "# start TensorFlow session\n",
    "init =  tf.compat.v1.initialize_all_variables()\n",
    "sess =  tf.compat.v1.InteractiveSession()\n",
    "sess.run(init)\n",
    "# visualisation variables\n",
    "train_accuracies = []\n",
    "validation_accuracies = []\n",
    "x_range = []\n",
    "display_step=1"
   ]
  },
  {
   "cell_type": "code",
   "execution_count": 27,
   "metadata": {
    "execution": {
     "iopub.execute_input": "2021-02-17T04:45:41.581850Z",
     "iopub.status.busy": "2021-02-17T04:45:41.581035Z",
     "iopub.status.idle": "2021-02-17T04:46:46.865383Z",
     "shell.execute_reply": "2021-02-17T04:46:46.865967Z"
    },
    "papermill": {
     "duration": 65.322547,
     "end_time": "2021-02-17T04:46:46.866175",
     "exception": false,
     "start_time": "2021-02-17T04:45:41.543628",
     "status": "completed"
    },
    "tags": []
   },
   "outputs": [
    {
     "name": "stdout",
     "output_type": "stream",
     "text": [
      "training_accuracy / validation_accuracy => 0.12 / 0.18 for step 0\n",
      "training_accuracy / validation_accuracy => 0.12 / 0.18 for step 1\n",
      "training_accuracy / validation_accuracy => 0.12 / 0.18 for step 2\n",
      "training_accuracy / validation_accuracy => 0.10 / 0.18 for step 3\n",
      "training_accuracy / validation_accuracy => 0.14 / 0.18 for step 4\n",
      "training_accuracy / validation_accuracy => 0.14 / 0.18 for step 5\n",
      "training_accuracy / validation_accuracy => 0.18 / 0.18 for step 6\n",
      "training_accuracy / validation_accuracy => 0.18 / 0.18 for step 7\n",
      "training_accuracy / validation_accuracy => 0.18 / 0.18 for step 8\n",
      "training_accuracy / validation_accuracy => 0.18 / 0.18 for step 9\n",
      "training_accuracy / validation_accuracy => 0.12 / 0.18 for step 10\n",
      "training_accuracy / validation_accuracy => 0.10 / 0.18 for step 20\n",
      "training_accuracy / validation_accuracy => 0.12 / 0.18 for step 30\n",
      "training_accuracy / validation_accuracy => 0.04 / 0.18 for step 40\n",
      "training_accuracy / validation_accuracy => 0.12 / 0.18 for step 50\n",
      "training_accuracy / validation_accuracy => 0.14 / 0.18 for step 60\n",
      "training_accuracy / validation_accuracy => 0.16 / 0.18 for step 70\n",
      "training_accuracy / validation_accuracy => 0.16 / 0.18 for step 80\n",
      "training_accuracy / validation_accuracy => 0.12 / 0.18 for step 90\n",
      "training_accuracy / validation_accuracy => 0.12 / 0.18 for step 100\n",
      "training_accuracy / validation_accuracy => 0.12 / 0.18 for step 200\n",
      "training_accuracy / validation_accuracy => 0.10 / 0.18 for step 300\n",
      "training_accuracy / validation_accuracy => 0.10 / 0.18 for step 400\n",
      "training_accuracy / validation_accuracy => 0.28 / 0.18 for step 500\n",
      "training_accuracy / validation_accuracy => 0.14 / 0.18 for step 600\n",
      "training_accuracy / validation_accuracy => 0.08 / 0.18 for step 700\n",
      "training_accuracy / validation_accuracy => 0.20 / 0.18 for step 800\n",
      "training_accuracy / validation_accuracy => 0.22 / 0.18 for step 900\n",
      "training_accuracy / validation_accuracy => 0.20 / 0.18 for step 1000\n",
      "training_accuracy / validation_accuracy => 0.20 / 0.18 for step 1100\n",
      "training_accuracy / validation_accuracy => 0.08 / 0.18 for step 1200\n",
      "training_accuracy / validation_accuracy => 0.16 / 0.18 for step 1300\n",
      "training_accuracy / validation_accuracy => 0.16 / 0.18 for step 1400\n",
      "training_accuracy / validation_accuracy => 0.16 / 0.18 for step 1500\n",
      "training_accuracy / validation_accuracy => 0.20 / 0.18 for step 1600\n",
      "training_accuracy / validation_accuracy => 0.00 / 0.18 for step 1700\n",
      "training_accuracy / validation_accuracy => 0.24 / 0.18 for step 1800\n",
      "training_accuracy / validation_accuracy => 0.18 / 0.18 for step 1900\n",
      "training_accuracy / validation_accuracy => 0.10 / 0.18 for step 2000\n",
      "training_accuracy / validation_accuracy => 0.16 / 0.18 for step 2100\n",
      "training_accuracy / validation_accuracy => 0.14 / 0.18 for step 2200\n",
      "training_accuracy / validation_accuracy => 0.20 / 0.18 for step 2300\n",
      "training_accuracy / validation_accuracy => 0.12 / 0.18 for step 2400\n",
      "training_accuracy / validation_accuracy => 0.10 / 0.18 for step 2500\n",
      "training_accuracy / validation_accuracy => 0.10 / 0.18 for step 2600\n",
      "training_accuracy / validation_accuracy => 0.16 / 0.18 for step 2700\n",
      "training_accuracy / validation_accuracy => 0.10 / 0.18 for step 2800\n",
      "training_accuracy / validation_accuracy => 0.30 / 0.18 for step 2900\n",
      "training_accuracy / validation_accuracy => 0.20 / 0.18 for step 2999\n"
     ]
    }
   ],
   "source": [
    "for i in range(TRAINING_ITERATIONS):\n",
    "    #get new batch\n",
    "    batch_xs, batch_ys = next_batch(BATCH_SIZE)    \n",
    "\t# check progress on every 1st,2nd,...,10th,20th,...,100th... step\n",
    "    if i%display_step == 0 or (i+1) == TRAINING_ITERATIONS:\n",
    "        train_accuracy = accuracy.eval(feed_dict={x:batch_xs, \n",
    "                                                  y_: batch_ys, \n",
    "                                                  keep_prob: 1.0})       \n",
    "        if(VALIDATION_SIZE):\n",
    "            validation_accuracy = accuracy.eval(feed_dict={ x: validation_images[0:BATCH_SIZE], \n",
    "                                                            y_: validation_labels[0:BATCH_SIZE], \n",
    "                                                            keep_prob: 1.0})                                  \n",
    "            print('training_accuracy / validation_accuracy => %.2f / %.2f for step %d'%(train_accuracy, validation_accuracy, i))\n",
    "            validation_accuracies.append(validation_accuracy)\n",
    "            \n",
    "        else:\n",
    "             print('training_accuracy => %.4f for step %d'%(train_accuracy, i))\n",
    "        train_accuracies.append(train_accuracy)\n",
    "        x_range.append(i)\n",
    "        # increase display_step\n",
    "        if i%(display_step*10) == 0 and i and display_step<100:\n",
    "            display_step *= 10\n",
    "    # train on batch\n",
    "    sess.run(train_step, feed_dict={x: batch_xs, y_: batch_ys, keep_prob: DROPOUT})"
   ]
  },
  {
   "cell_type": "code",
   "execution_count": 28,
   "metadata": {
    "execution": {
     "iopub.execute_input": "2021-02-17T04:46:46.953352Z",
     "iopub.status.busy": "2021-02-17T04:46:46.952604Z",
     "iopub.status.idle": "2021-02-17T04:46:47.763889Z",
     "shell.execute_reply": "2021-02-17T04:46:47.763303Z"
    },
    "papermill": {
     "duration": 0.856247,
     "end_time": "2021-02-17T04:46:47.764048",
     "exception": false,
     "start_time": "2021-02-17T04:46:46.907801",
     "status": "completed"
    },
    "tags": []
   },
   "outputs": [],
   "source": [
    "import seaborn as sns\n",
    "\n",
    "from sklearn.metrics import accuracy_score\n",
    "\n",
    "from sklearn.metrics import confusion_matrix\n",
    "\n",
    "import itertools"
   ]
  },
  {
   "cell_type": "code",
   "execution_count": 29,
   "metadata": {
    "execution": {
     "iopub.execute_input": "2021-02-17T04:46:47.852445Z",
     "iopub.status.busy": "2021-02-17T04:46:47.851431Z",
     "iopub.status.idle": "2021-02-17T04:46:48.693039Z",
     "shell.execute_reply": "2021-02-17T04:46:48.692372Z"
    },
    "papermill": {
     "duration": 0.888548,
     "end_time": "2021-02-17T04:46:48.693227",
     "exception": false,
     "start_time": "2021-02-17T04:46:47.804679",
     "status": "completed"
    },
    "tags": []
   },
   "outputs": [
    {
     "name": "stdout",
     "output_type": "stream",
     "text": [
      "validation_accuracy => 0.1556\n"
     ]
    },
    {
     "data": {
      "image/png": "[encoded data removed]",
      "text/plain": [
       "<Figure size 432x288 with 1 Axes>"
      ]
     },
     "metadata": {
      "needs_background": "light"
     },
     "output_type": "display_data"
    }
   ],
   "source": [
    "# check final accuracy on validation set  \n",
    "if(VALIDATION_SIZE):\n",
    "    validation_accuracy = accuracy.eval(feed_dict={x: validation_images, \n",
    "                                                   y_: validation_labels, \n",
    "                                                   keep_prob: 1.0})\n",
    "    print('validation_accuracy => %.4f'%validation_accuracy)\n",
    "    plt.plot(x_range, train_accuracies,'-b', label='Training')\n",
    "    plt.plot(x_range, validation_accuracies,'-g', label='Validation')\n",
    "    plt.legend(loc='lower right', frameon=False)\n",
    "    plt.ylim(ymax = 1.0, ymin = 0.0)\n",
    "    plt.ylabel('accuracy')\n",
    "    plt.xlabel('step')\n",
    "    plt.show()"
   ]
  },
  {
   "cell_type": "code",
   "execution_count": 30,
   "metadata": {
    "execution": {
     "iopub.execute_input": "2021-02-17T04:46:48.801160Z",
     "iopub.status.busy": "2021-02-17T04:46:48.800162Z",
     "iopub.status.idle": "2021-02-17T04:46:57.548599Z",
     "shell.execute_reply": "2021-02-17T04:46:57.547352Z"
    },
    "papermill": {
     "duration": 8.805889,
     "end_time": "2021-02-17T04:46:57.548801",
     "exception": false,
     "start_time": "2021-02-17T04:46:48.742912",
     "status": "completed"
    },
    "tags": []
   },
   "outputs": [],
   "source": [
    "saver = tf.compat.v1.train.Saver(tf.compat.v1.all_variables())\n",
    "saver.save(sess, 'my-model1', global_step=0)\n",
    "# read test data from CSV file \n",
    "test_data = data[data.Usage == \"PublicTest\"]\n",
    "test_data.head()\n",
    "len(test_data)\n",
    "test_pixels_values = test_data.pixels.str.split(\" \").tolist()\n",
    "test_pixels_values = pd.DataFrame(test_pixels_values, dtype=int)\n",
    "test_images = test_pixels_values.values\n",
    "test_images = test_images.astype(np.float)\n",
    "test_images = test_images - test_images.mean(axis=1).reshape(-1,1)\n",
    "test_images = np.multiply(test_images,100.0/255.0)\n",
    "test_images = np.divide(np.subtract(test_images,each_pixel_mean), each_pixel_std)"
   ]
  },
  {
   "cell_type": "code",
   "execution_count": 31,
   "metadata": {
    "execution": {
     "iopub.execute_input": "2021-02-17T04:46:57.640535Z",
     "iopub.status.busy": "2021-02-17T04:46:57.639756Z",
     "iopub.status.idle": "2021-02-17T04:46:58.143446Z",
     "shell.execute_reply": "2021-02-17T04:46:58.142853Z"
    },
    "papermill": {
     "duration": 0.552416,
     "end_time": "2021-02-17T04:46:58.143596",
     "exception": false,
     "start_time": "2021-02-17T04:46:57.591180",
     "status": "completed"
    },
    "tags": []
   },
   "outputs": [
    {
     "data": {
      "text/plain": [
       "array([[467,   0,   0,   0,   0,   0,   0],\n",
       "       [ 56,   0,   0,   0,   0,   0,   0],\n",
       "       [496,   0,   0,   0,   0,   0,   0],\n",
       "       [895,   0,   0,   0,   0,   0,   0],\n",
       "       [653,   0,   0,   0,   0,   0,   0],\n",
       "       [415,   0,   0,   0,   0,   0,   0],\n",
       "       [607,   0,   0,   0,   0,   0,   0]])"
      ]
     },
     "execution_count": 31,
     "metadata": {},
     "output_type": "execute_result"
    }
   ],
   "source": [
    "predicted_lables = np.zeros(test_images.shape[0])\n",
    "for i in range(0,test_images.shape[0]//BATCH_SIZE):\n",
    "    predicted_lables[i*BATCH_SIZE : (i+1)*BATCH_SIZE] = predict.eval(feed_dict={x: test_images[i*BATCH_SIZE : (i+1)*BATCH_SIZE], \n",
    "                                                                                keep_prob: 1.0})\n",
    "\n",
    "\n",
    "test_data.emotion.values\n",
    "confusion_matrix(test_data.emotion.values, predicted_lables)"
   ]
  },
  {
   "cell_type": "code",
   "execution_count": 32,
   "metadata": {
    "execution": {
     "iopub.execute_input": "2021-02-17T04:46:58.255862Z",
     "iopub.status.busy": "2021-02-17T04:46:58.255061Z",
     "iopub.status.idle": "2021-02-17T04:46:58.259220Z",
     "shell.execute_reply": "2021-02-17T04:46:58.258429Z"
    },
    "papermill": {
     "duration": 0.066074,
     "end_time": "2021-02-17T04:46:58.259368",
     "exception": false,
     "start_time": "2021-02-17T04:46:58.193294",
     "status": "completed"
    },
    "tags": []
   },
   "outputs": [],
   "source": [
    "def plot_confusion_matrix(cm, classes,\n",
    "                          normalize=False,\n",
    "                          title='Confusion matrix',\n",
    "                          cmap=plt.cm.Blues):\n",
    "    plt.imshow(cm, interpolation='nearest', cmap=cmap)\n",
    "    plt.title(title)\n",
    "    plt.colorbar()\n",
    "    tick_marks = np.arange(len(classes))\n",
    "    plt.xticks(tick_marks, classes, rotation=45)\n",
    "    plt.yticks(tick_marks, classes)\n",
    "    if normalize:\n",
    "        cm = cm.astype('float') / cm.sum(axis=1)[:, np.newaxis]\n",
    "        print(\"Normalized confusion matrix\")\n",
    "    else:\n",
    "        print('Confusion matrix, without normalization')\n",
    "    print(cm)\n",
    "    thresh = cm.max() / 2.\n",
    "    for i, j in itertools.product(range(cm.shape[0]), range(cm.shape[1])):\n",
    "        plt.text(j, i, int(cm[i, j]*100)/100.0,\n",
    "                 horizontalalignment=\"center\",\n",
    "                 color=\"white\" if cm[i, j] > thresh else \"black\")\n",
    "    plt.tight_layout()\n",
    "    plt.ylabel('True label')\n",
    "    plt.xlabel('Predicted label')"
   ]
  },
  {
   "cell_type": "code",
   "execution_count": null,
   "metadata": {
    "papermill": {
     "duration": 0.049189,
     "end_time": "2021-02-17T04:46:58.359192",
     "exception": false,
     "start_time": "2021-02-17T04:46:58.310003",
     "status": "completed"
    },
    "tags": []
   },
   "outputs": [],
   "source": []
  }
 ],
 "metadata": {
  "kernelspec": {
   "display_name": "Python 3",
   "language": "python",
   "name": "python3"
  },
  "language_info": {
   "codemirror_mode": {
    "name": "ipython",
    "version": 3
   },
   "file_extension": ".py",
   "mimetype": "text/x-python",
   "name": "python",
   "nbconvert_exporter": "python",
   "pygments_lexer": "ipython3",
   "version": "3.7.9"
  },
  "papermill": {
   "default_parameters": {},
   "duration": 187.868893,
   "end_time": "2021-02-17T04:47:05.025177",
   "environment_variables": {},
   "exception": null,
   "input_path": "__notebook__.ipynb",
   "output_path": "__notebook__.ipynb",
   "parameters": {},
   "start_time": "2021-02-17T04:43:57.156284",
   "version": "2.2.2"
  }
 },
 "nbformat": 4,
 "nbformat_minor": 4
}
